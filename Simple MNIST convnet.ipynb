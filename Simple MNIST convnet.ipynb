{
 "cells": [
  {
   "cell_type": "code",
   "execution_count": 1,
   "id": "adjustable-listening",
   "metadata": {},
   "outputs": [],
   "source": [
    "import numpy as np\n",
    "from tensorflow import keras\n",
    "from tensorflow.keras import layers"
   ]
  },
  {
   "cell_type": "code",
   "execution_count": 2,
   "id": "stylish-novelty",
   "metadata": {},
   "outputs": [],
   "source": [
    "num_classes = 10\n",
    "input_shape = (28, 28, 1)\n",
    "\n",
    "(x_train, y_train), (x_test, y_test) = keras.datasets.mnist.load_data()"
   ]
  },
  {
   "cell_type": "code",
   "execution_count": 3,
   "id": "catholic-indonesia",
   "metadata": {},
   "outputs": [
    {
     "data": {
      "text/plain": [
       "(60000, 28, 28)"
      ]
     },
     "execution_count": 3,
     "metadata": {},
     "output_type": "execute_result"
    }
   ],
   "source": [
    "x_train.shape"
   ]
  },
  {
   "cell_type": "code",
   "execution_count": 4,
   "id": "suspected-shipping",
   "metadata": {},
   "outputs": [
    {
     "data": {
      "text/plain": [
       "(60000,)"
      ]
     },
     "execution_count": 4,
     "metadata": {},
     "output_type": "execute_result"
    }
   ],
   "source": [
    "y_train.shape"
   ]
  },
  {
   "cell_type": "code",
   "execution_count": 5,
   "id": "touched-apple",
   "metadata": {},
   "outputs": [],
   "source": [
    "x_train = x_train.astype(\"float32\") / 255\n",
    "x_test = x_test.astype(\"float32\") / 255"
   ]
  },
  {
   "cell_type": "code",
   "execution_count": 6,
   "id": "statewide-jones",
   "metadata": {},
   "outputs": [],
   "source": [
    "x_train = np.expand_dims(x_train, -1)\n",
    "x_test = np.expand_dims(x_test, -1)"
   ]
  },
  {
   "cell_type": "code",
   "execution_count": 7,
   "id": "younger-encyclopedia",
   "metadata": {},
   "outputs": [
    {
     "name": "stdout",
     "output_type": "stream",
     "text": [
      "x_train shape: (60000, 28, 28, 1)\n",
      "60000 train samples\n",
      "10000 test samples\n"
     ]
    }
   ],
   "source": [
    "print(\"x_train shape:\", x_train.shape)\n",
    "print(x_train.shape[0], \"train samples\")\n",
    "print(x_test.shape[0], \"test samples\")"
   ]
  },
  {
   "cell_type": "code",
   "execution_count": 8,
   "id": "satellite-airport",
   "metadata": {},
   "outputs": [],
   "source": [
    "y_train = keras.utils.to_categorical(y_train, num_classes)\n",
    "y_test = keras.utils.to_categorical(y_test, num_classes)"
   ]
  },
  {
   "cell_type": "code",
   "execution_count": 9,
   "id": "polished-ethernet",
   "metadata": {},
   "outputs": [
    {
     "name": "stdout",
     "output_type": "stream",
     "text": [
      "y_train shape: (60000, 10)\n",
      "y_test shape: (10000, 10)\n",
      "y_train size: 600000\n",
      "y_test size: 100000\n"
     ]
    }
   ],
   "source": [
    "print(\"y_train shape:\", y_train.shape)\n",
    "print(\"y_test shape:\", y_test.shape)\n",
    "print(\"y_train size:\", y_train.size)\n",
    "print(\"y_test size:\", y_test.size)"
   ]
  },
  {
   "cell_type": "code",
   "execution_count": 10,
   "id": "associate-accommodation",
   "metadata": {},
   "outputs": [
    {
     "name": "stdout",
     "output_type": "stream",
     "text": [
      "Model: \"sequential\"\n",
      "_________________________________________________________________\n",
      "Layer (type)                 Output Shape              Param #   \n",
      "=================================================================\n",
      "conv2d (Conv2D)              (None, 26, 26, 32)        320       \n",
      "_________________________________________________________________\n",
      "max_pooling2d (MaxPooling2D) (None, 13, 13, 32)        0         \n",
      "_________________________________________________________________\n",
      "conv2d_1 (Conv2D)            (None, 11, 11, 64)        18496     \n",
      "_________________________________________________________________\n",
      "max_pooling2d_1 (MaxPooling2 (None, 5, 5, 64)          0         \n",
      "_________________________________________________________________\n",
      "flatten (Flatten)            (None, 1600)              0         \n",
      "_________________________________________________________________\n",
      "dropout (Dropout)            (None, 1600)              0         \n",
      "_________________________________________________________________\n",
      "dense (Dense)                (None, 784)               1255184   \n",
      "_________________________________________________________________\n",
      "dense_1 (Dense)              (None, 784)               615440    \n",
      "_________________________________________________________________\n",
      "dense_2 (Dense)              (None, 784)               615440    \n",
      "_________________________________________________________________\n",
      "dense_3 (Dense)              (None, 10)                7850      \n",
      "=================================================================\n",
      "Total params: 2,512,730\n",
      "Trainable params: 2,512,730\n",
      "Non-trainable params: 0\n",
      "_________________________________________________________________\n"
     ]
    }
   ],
   "source": [
    "model = keras.Sequential([\n",
    "    keras.Input(shape = input_shape),\n",
    "    layers.Conv2D(32, kernel_size = (3,3), activation = \"relu\"),\n",
    "    layers.MaxPooling2D(pool_size = (2,2)),\n",
    "    layers.Conv2D(64, kernel_size = (3,3), activation = \"relu\"),\n",
    "    layers.MaxPooling2D(pool_size = (2,2)),\n",
    "    layers.Flatten(),\n",
    "    layers.Dropout(0.5),\n",
    "    layers.Dense(784, activation = \"relu\"),\n",
    "    layers.Dense(784, activation = \"relu\"),\n",
    "    layers.Dense(784, activation = \"relu\"),\n",
    "    layers.Dense(num_classes, activation = \"softmax\"),\n",
    "])\n",
    "model.summary()"
   ]
  },
  {
   "cell_type": "code",
   "execution_count": 11,
   "id": "amateur-allocation",
   "metadata": {},
   "outputs": [
    {
     "name": "stdout",
     "output_type": "stream",
     "text": [
      "Epoch 1/15\n",
      "422/422 [==============================] - 8s 10ms/step - loss: 0.4644 - accuracy: 0.8425 - val_loss: 0.0536 - val_accuracy: 0.9832 accuracy: 0.75 - ETA: 1s - loss: 0.7012 - accuracy - ETA: 1s - loss: 0.6475 - accuracy: 0. - ETA: 1s - loss: 0.6260 - ac - ETA: 0s - loss: 0.5640 - accuracy - ETA: 0s - loss: 0.5342 - ac - ETA: 0s - loss: 0.4934 - accura - ETA: 0s - loss: 0.4681 - accuracy: 0.\n",
      "Epoch 2/15\n",
      "422/422 [==============================] - 3s 7ms/step - loss: 0.0719 - accuracy: 0.9776 - val_loss: 0.0402 - val_accuracy: 0.9888: 2s - loss: 0.0668 - accuracy - ETA: 2s - los - ETA: 1s - loss: - ETA: 0s - loss: 0.0720 - accuracy - ETA: 0s - loss: - ETA: 0s - loss: 0.0719 - accuracy: 0.97\n",
      "Epoch 3/15\n",
      "422/422 [==============================] - 3s 7ms/step - loss: 0.0531 - accuracy: 0.9834 - val_loss: 0.0308 - val_accuracy: 0.9917 ETA: 1s - loss: 0.0530 - accura - ETA: 0s - loss: 0.0530 -  - ETA: 0s - loss: 0.0531 - accuracy: 0.98 - ETA: 0s - loss: 0.0531 - accuracy:  - ETA: 0s - loss: 0.0531 - accuracy\n",
      "Epoch 4/15\n",
      "422/422 [==============================] - ETA: 0s - loss: 0.0409 - accuracy: 0.9874 ETA: 2s - loss: 0.0323 - accuracy:  - ETA: 2s - loss: 0 - ETA: 1s - loss: 0.0385 - accura - E - ETA: 0s - loss: 0 - 3s 7ms/step - loss: 0.0409 - accuracy: 0.9874 - val_loss: 0.0315 - val_accuracy: 0.9905\n",
      "Epoch 5/15\n",
      "422/422 [==============================] - 3s 7ms/step - loss: 0.0334 - accuracy: 0.9893 - val_loss: 0.0338 - val_accuracy: 0.9900: 1s - loss: 0.0272 - ac - ETA: 1s - loss: 0.0294 - accuracy: 0. - ETA: 1s - loss: 0.029 - ETA: 0s - loss: 0.0314 - accuracy: 0.98 - ETA: 0s - loss: 0.0316 - accuracy: 0. - ETA: 0s - loss: 0.0319 - accura - ETA: 0s - loss: 0.032\n",
      "Epoch 6/15\n",
      "422/422 [==============================] - 3s 8ms/step - loss: 0.0291 - accuracy: 0.9908 - val_loss: 0.0293 - val_accuracy: 0.99132s - loss: 0.0253 - accu - ETA: 2s - loss: 0.0263 - accuracy: 0. - ETA: 1s - loss: 0.0266 - accuracy - ETA: 1s - loss: 0.027 - ETA: 1s - loss: 0.0277 - accuracy: 0.99 - ETA: 1s - loss: 0.0278 - accuracy - ETA: 0s - loss: 0.0280 - accuracy: 0. - ETA: 0s - loss: - ETA: 0s - loss: 0.0289 - accuracy: 0.\n",
      "Epoch 7/15\n",
      "422/422 [==============================] - 3s 7ms/step - loss: 0.0298 - accuracy: 0.9912 - val_loss: 0.0325 - val_accuracy: 0.9905 - loss: 0.0290 - accuracy: 0. - ETA: 2s - loss: 0.0296 - accuracy:  - ETA: 2s - loss: 0.0302 - accuracy - ETA: 1s - loss: - ETA: 1s - loss: 0.0301 -  - ETA: 0s - loss: 0.0298 - accuracy:  - ETA: 0s - loss: 0.0298 - accuracy: 0.99 - ETA: 0s - loss: 0\n",
      "Epoch 8/15\n",
      "422/422 [==============================] - 3s 8ms/step - loss: 0.0277 - accuracy: 0.9912 - val_loss: 0.0251 - val_accuracy: 0.9925 - loss: 0.0276 - accuracy: 0. - ETA: 0s - loss: 0.0276 - accuracy: 0.99 - ETA: 0s - loss: 0.0276 - accuracy:  - ETA: 0s - loss: 0.0276 - accuracy:  - ETA: 0s - loss: 0.0276 - accu\n",
      "Epoch 9/15\n",
      "422/422 [==============================] - ETA: 0s - loss: 0.0229 - accuracy: 0.9933 ETA: 1s - loss: - 3s 7ms/step - loss: 0.0229 - accuracy: 0.9933 - val_loss: 0.0293 - val_accuracy: 0.9918\n",
      "Epoch 10/15\n",
      "422/422 [==============================] - 3s 7ms/step - loss: 0.0230 - accuracy: 0.9924 - val_loss: 0.0336 - val_accuracy: 0.9920 - loss: 0.0208 - accuracy - ETA\n",
      "Epoch 11/15\n",
      "422/422 [==============================] - 3s 8ms/step - loss: 0.0223 - accuracy: 0.9930 - val_loss: 0.0284 - val_accuracy: 0.9917198 - accuracy: 0. - ETA: 1s - loss: 0 - ETA: 1s - loss: 0.0217 - accuracy: 0. - ETA: 1s - loss: 0.0218 - accuracy:  - ETA: 0s - loss: 0.0219  - ETA: 0s - loss: 0.0222 - ac\n",
      "Epoch 12/15\n",
      "422/422 [==============================] - ETA: 0s - loss: 0.0192 - accuracy: 0.9938 ETA: 2s - loss: 0.0192 - accuracy: 0. - ETA - ETA: 1s - los - ETA: 0s - loss: 0.0187 - accuracy: 0.99 - ETA: 0s - loss: 0.0188 - accuracy: 0.99 - ETA: 0s - loss: 0.0188 - accura - ETA: 0s - loss: 0.0190 - accura - 3s 7ms/step - loss: 0.0192 - accuracy: 0.9938 - val_loss: 0.0276 - val_accuracy: 0.9938\n",
      "Epoch 13/15\n",
      "422/422 [==============================] - 3s 7ms/step - loss: 0.0185 - accuracy: 0.9944 - val_loss: 0.0318 - val_accuracy: 0.99322s - loss: 0.0 - ETA: 1s - loss: 0.0180 - accuracy:  - ETA: 1s - loss: 0.0179 - accuracy:  - ETA: 1s - loss: 0.0178 - ac - ETA: 1s - loss: 0.0180 - accuracy: 0.99 - ETA: 1s - loss: 0.0180 - accuracy:  - ETA: 0s - loss: 0.0181 - accuracy:  - ETA: 0s - loss: 0.0182 - accuracy: 0. - ETA: 0s - loss: 0.0183 - accuracy - ETA: 0s - loss: 0.0183 - accuracy: 0. - ETA: 0s - loss: 0.0184 - accu\n",
      "Epoch 14/15\n",
      "422/422 [==============================] - ETA: 0s - loss: 0.0186 - accuracy: 0.9940 ETA: 1s - loss: 0.0181 - accuracy - ETA: 1s - loss: 0.0180 - accu - ETA: 1s - loss: 0.0181 - accuracy:  - ETA: 0s - 3s 8ms/step - loss: 0.0186 - accuracy: 0.9940 - val_loss: 0.0402 - val_accuracy: 0.9920\n",
      "Epoch 15/15\n",
      "422/422 [==============================] - 3s 8ms/step - loss: 0.0161 - accuracy: 0.9951 - val_loss: 0.0339 - val_accuracy: 0.9923.0121 - accuracy:  - ETA: 2s - loss: 0.0128 -  - ETA: 1s - loss: 0.0143 - accuracy: 0. - ETA: 1s - loss: 0.0145 - accuracy: 0.99 - ETA: 1s - loss: 0.0146 - accuracy: 0.99 - ETA: 1s - loss: 0.0147 - accuracy: 0. - ETA: 1s - los - ETA: 0s - los\n"
     ]
    },
    {
     "data": {
      "text/plain": [
       "<tensorflow.python.keras.callbacks.History at 0x2a64cf000d0>"
      ]
     },
     "execution_count": 11,
     "metadata": {},
     "output_type": "execute_result"
    }
   ],
   "source": [
    "batch_size = 128\n",
    "epochs = 15\n",
    "\n",
    "model.compile(loss = \"categorical_crossentropy\", optimizer = \"adam\", metrics = [\"accuracy\"])\n",
    "\n",
    "model.fit(x_train, y_train, batch_size = batch_size, epochs = epochs, validation_split = 0.1)"
   ]
  },
  {
   "cell_type": "code",
   "execution_count": 12,
   "id": "surgical-alarm",
   "metadata": {},
   "outputs": [
    {
     "name": "stdout",
     "output_type": "stream",
     "text": [
      "Test loss: 0.02243846282362938\n",
      "Test accuracy: 0.9929999709129333\n"
     ]
    }
   ],
   "source": [
    "score = model.evaluate(x_test, y_test, verbose=0)\n",
    "print(\"Test loss:\", score[0])\n",
    "print(\"Test accuracy:\", score[1])"
   ]
  },
  {
   "cell_type": "code",
   "execution_count": null,
   "id": "accurate-rubber",
   "metadata": {},
   "outputs": [],
   "source": []
  }
 ],
 "metadata": {
  "kernelspec": {
   "display_name": "Python 3",
   "language": "python",
   "name": "python3"
  },
  "language_info": {
   "codemirror_mode": {
    "name": "ipython",
    "version": 3
   },
   "file_extension": ".py",
   "mimetype": "text/x-python",
   "name": "python",
   "nbconvert_exporter": "python",
   "pygments_lexer": "ipython3",
   "version": "3.8.8"
  }
 },
 "nbformat": 4,
 "nbformat_minor": 5
}
